{
 "cells": [
  {
   "cell_type": "code",
   "execution_count": 16,
   "metadata": {},
   "outputs": [
    {
     "name": "stdout",
     "output_type": "stream",
     "text": [
      "Twinkle, twinkle, little star,\n",
      "         How I wonder what you are!\n",
      "                 Up above the world so high,\n",
      "                 Like a diamond in the sky.\n",
      "Twinkle, twinkle, little star,\n",
      "         How I wonder what you are!\n"
     ]
    }
   ],
   "source": [
    "#1. Write a python program to print the following string in specific format(see the following output)\n",
    "print(\"Twinkle, twinkle, little star,\\n         How I wonder what you are!\\n                 Up above the world so high,\\n                 Like a diamond in the sky.\\nTwinkle, twinkle, little star,\\n         How I wonder what you are!\")\n"
   ]
  },
  {
   "cell_type": "code",
   "execution_count": 17,
   "metadata": {},
   "outputs": [
    {
     "name": "stdout",
     "output_type": "stream",
     "text": [
      "3.7.4 (default, Aug  9 2019, 18:34:13) [MSC v.1915 64 bit (AMD64)]\n"
     ]
    }
   ],
   "source": [
    "#2. Write a python program to get the Python version you are using..\n",
    "import sys\n",
    "print(sys.version)"
   ]
  },
  {
   "cell_type": "code",
   "execution_count": 27,
   "metadata": {},
   "outputs": [
    {
     "name": "stdout",
     "output_type": "stream",
     "text": [
      "Current date and time: 22-10-21  11:42:52\n"
     ]
    }
   ],
   "source": [
    "#3. Write a Python program to display the current date and time...\n",
    "import datetime\n",
    "now = datetime.datetime.now()\n",
    "print(\"Current date and time:\",now.strftime(\"%d-%m-%y  %H:%M:%S\" ))\n"
   ]
  },
  {
   "cell_type": "code",
   "execution_count": 29,
   "metadata": {},
   "outputs": [
    {
     "name": "stdout",
     "output_type": "stream",
     "text": [
      "Enter The radius of the cirlce:4\n",
      "Area of the circle is 50.24\n"
     ]
    }
   ],
   "source": [
    "#4. Write a Python program which accepts the radius of a circle from the user and compute the area..\n",
    "radius = float(input(\"Enter The radius of the cirlce:\"))\n",
    "area = 3.14*radius*radius\n",
    "print(\"Area of the circle is\", area)"
   ]
  },
  {
   "cell_type": "code",
   "execution_count": 33,
   "metadata": {},
   "outputs": [
    {
     "name": "stdout",
     "output_type": "stream",
     "text": [
      "Enter Your First Name:saif\n",
      "Enter Your Last Name:vis\n",
      "fias siv\n"
     ]
    }
   ],
   "source": [
    "#5. Write Python program which accepts the user's first and last name and print them in reverse order with a space between them.\n",
    "f_name = str(input(\"Enter Your First Name:\"))\n",
    "l_name = str(input(\"Enter Your Last Name:\"))\n",
    "print(f_name[::-1], l_name[::-1])"
   ]
  },
  {
   "cell_type": "code",
   "execution_count": 37,
   "metadata": {},
   "outputs": [
    {
     "name": "stdout",
     "output_type": "stream",
     "text": [
      "Enter the first Value: 12\n",
      "Enter the second value: 12\n",
      "24\n"
     ]
    }
   ],
   "source": [
    "#6. Write a python program which takes two inputs from user and print them addition\n",
    "input1 = int(input(\"Enter the first Value: \"))\n",
    "input2 = int(input(\"Enter the second value: \"))\n",
    "addition = input1 + input2\n",
    "print(addition)"
   ]
  },
  {
   "cell_type": "code",
   "execution_count": 47,
   "metadata": {},
   "outputs": [
    {
     "name": "stdout",
     "output_type": "stream",
     "text": [
      "Enter Subject 1 Marks: 100\n",
      "Enter Subject 2 Marks: 100\n",
      "Enter Subject 3 Marks: 100\n",
      "Enter Subject 4 Marks: 99\n",
      "Enter Subject 5 Marks: 0\n",
      "Total Marks are 500\n",
      "Obtained marks are: 399\n",
      "You Got B Grade\n"
     ]
    }
   ],
   "source": [
    "#7. Write a program which takes 5 inputs from user for different subject's marks, total it and generate mark sheet using grades?\n",
    "sub1 = int(input(\"Enter Subject 1 Marks: \"))\n",
    "sub2 = int(input(\"Enter Subject 2 Marks: \"))\n",
    "sub3 = int(input(\"Enter Subject 3 Marks: \"))\n",
    "sub4 = int(input(\"Enter Subject 4 Marks: \"))\n",
    "sub5 = int(input(\"Enter Subject 5 Marks: \"))\n",
    "total = sub1 + sub2 + sub3 + sub4 + sub5\n",
    "print(\"Total Marks are 500\")\n",
    "print(\"Obtained marks are:\", total)\n",
    "if total >= 400 and total <= 500:\n",
    "    print(\"You Got A+ Grade\")\n",
    "elif total >= 300 and total < 400:\n",
    "    print(\"You Got B Grade\")\n",
    "elif total >= 200 and total < 300:\n",
    "    print(\"You Got C Grade\")\n",
    "elif total >= 100 and total < 200:\n",
    "    print(\"You Got D Grade\")\n",
    "elif total >= 50 and total < 100:\n",
    "    print(\"You Got E Grade\")\n",
    "else:\n",
    "    print(\"You Got F Grade\")"
   ]
  },
  {
   "cell_type": "code",
   "execution_count": 11,
   "metadata": {},
   "outputs": [
    {
     "name": "stdout",
     "output_type": "stream",
     "text": [
      "Enter The Number Here: 999999\n",
      "Your given number is ODD\n"
     ]
    }
   ],
   "source": [
    "#8. write a program which take input from user and identify that the given number is even or odd.\n",
    "user = int(input(\"Enter The Number Here: \"))\n",
    "modulo = user % 2\n",
    "if modulo == 0:\n",
    "    print(\"Your given number is EVEN\")\n",
    "else:\n",
    "    print(\"Your given number is ODD\")"
   ]
  },
  {
   "cell_type": "code",
   "execution_count": 12,
   "metadata": {},
   "outputs": [
    {
     "name": "stdout",
     "output_type": "stream",
     "text": [
      "6\n"
     ]
    }
   ],
   "source": [
    "#9. Write a program which print the length of the list?\n",
    "alist = [\"saif\", \"rehman\", \"vistro\", 123, 786, 378,]\n",
    "print(len(alist))"
   ]
  },
  {
   "cell_type": "code",
   "execution_count": 15,
   "metadata": {},
   "outputs": [
    {
     "name": "stdout",
     "output_type": "stream",
     "text": [
      "45\n"
     ]
    }
   ],
   "source": [
    "#10. Write a python program to sum all the numeric items in a list?\n",
    "num_list = [1, 2, 3, 4, 5, 6, 7, 8, 9]\n",
    "print(sum(num_list))"
   ]
  },
  {
   "cell_type": "code",
   "execution_count": 31,
   "metadata": {},
   "outputs": [
    {
     "name": "stdout",
     "output_type": "stream",
     "text": [
      "124000\n"
     ]
    }
   ],
   "source": [
    "#11. Write a  pyhton program to get the largest number from a numeric list.\n",
    "new_list = [100000, 0, 12, 20001, 100, 150, 20210, 124000]\n",
    "print(max(new_list))"
   ]
  },
  {
   "cell_type": "code",
   "execution_count": 32,
   "metadata": {},
   "outputs": [
    {
     "name": "stdout",
     "output_type": "stream",
     "text": [
      "[1, 1, 2, 3]\n"
     ]
    }
   ],
   "source": [
    "#12. Write a program that prints out all the elements of the list that are less than 5.\n",
    "a = [1, 1, 2, 3, 5, 8, 13, 21, 34, 55, 89]\n",
    "print(a[:4])"
   ]
  },
  {
   "cell_type": "code",
   "execution_count": null,
   "metadata": {},
   "outputs": [],
   "source": []
  }
 ],
 "metadata": {
  "kernelspec": {
   "display_name": "Python 3",
   "language": "python",
   "name": "python3"
  },
  "language_info": {
   "codemirror_mode": {
    "name": "ipython",
    "version": 3
   },
   "file_extension": ".py",
   "mimetype": "text/x-python",
   "name": "python",
   "nbconvert_exporter": "python",
   "pygments_lexer": "ipython3",
   "version": "3.7.4"
  }
 },
 "nbformat": 4,
 "nbformat_minor": 2
}
